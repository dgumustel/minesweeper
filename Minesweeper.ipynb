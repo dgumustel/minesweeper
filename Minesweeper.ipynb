{
 "cells": [
  {
   "cell_type": "markdown",
   "id": "dc52e3a7-a44e-4ef9-884b-12766e432a6b",
   "metadata": {},
   "source": [
    "Learning how to code my favorite puzzle game, Minesweeper, in Python. Developing things in a Jupyter notebook for easy testing and debugging at each step. "
   ]
  },
  {
   "cell_type": "code",
   "execution_count": 1,
   "id": "e401a2c6-631d-4dcc-9f41-c996c0527956",
   "metadata": {},
   "outputs": [
    {
     "name": "stdout",
     "output_type": "stream",
     "text": [
      "- - - - -\n",
      "- - - - -\n",
      "- - - - -\n",
      "- - - - -\n",
      "- - - - -\n"
     ]
    }
   ],
   "source": [
    "# Create a board\n",
    "n = 5\n",
    "arr = [['-' for row in range(n)] for column in range(n)]\n",
    "\n",
    "for row in arr:\n",
    "    print(' '.join(str(cell) for cell in row))"
   ]
  },
  {
   "cell_type": "code",
   "execution_count": 2,
   "id": "7287ac3a-cf02-4b23-9fa6-fa50019d7fbd",
   "metadata": {},
   "outputs": [
    {
     "name": "stdout",
     "output_type": "stream",
     "text": [
      "_____________________\n",
      "|    |    |    |    |\n",
      "|    |    |    |    |\n",
      "_____________________\n",
      "|    |    |    |    |\n",
      "|    |    |    |    |\n",
      "_____________________\n",
      "|    |    |    |    |\n",
      "|    |    |    |    |\n",
      "_____________________\n",
      "|    |    |    |    |\n",
      "|    |    |    |    |\n",
      "_____________________\n",
      "|    |    |    |    |\n",
      "|    |    |    |    |\n",
      "_____________________\n"
     ]
    }
   ],
   "source": [
    "# Tested a different look for the board\n",
    "arr = ['|' for n in range(5)]\n",
    "arrh = ['_' for n in range(21)]\n",
    "\n",
    "for i in range(5):\n",
    "    \n",
    "    print(''.join(arrh))\n",
    "    print('    '.join(str(value) for value in arr))\n",
    "    print('    '.join(str(value) for value in arr))\n",
    "    \n",
    "    \n",
    "print(''.join(arrh))"
   ]
  },
  {
   "cell_type": "code",
   "execution_count": 3,
   "id": "306ad4b6-44f2-4f50-8ba4-7684dba5584f",
   "metadata": {},
   "outputs": [],
   "source": [
    "# Quick helper function for printing out the board, a 2D array \n",
    "def print_board(arr):\n",
    "    for row in arr:\n",
    "        print(' '.join(str(cell) for cell in row))"
   ]
  },
  {
   "cell_type": "code",
   "execution_count": 4,
   "id": "ce17ffc6-868f-42f6-9ca3-887194d7d7c2",
   "metadata": {},
   "outputs": [
    {
     "name": "stdout",
     "output_type": "stream",
     "text": [
      "0 0 0 0 0\n",
      "0 0 0 0 0\n",
      "0 0 0 0 0\n",
      "0 1 1 1 0\n",
      "0 1 X 1 0\n"
     ]
    }
   ],
   "source": [
    "# Game code in development\n",
    "import random\n",
    "import numpy as np\n",
    "\n",
    "\n",
    "# Generate board, n = height and width of board\n",
    "n = 5\n",
    "arr = [[0 for row in range(n)] for column in range(n)]\n",
    "\n",
    "# Add a mine randomly\n",
    "x = random.randint(0, n-1)\n",
    "y = random.randint(0, n-1)\n",
    "arr[y][x] = 'X'\n",
    "\n",
    "# Uncomment for printout of board prior to adding 1's around each mine\n",
    "# print_board(arr)\n",
    "# print('\\n')\n",
    "# print(np.argwhere(np.array(arr) == 'X'))\n",
    "# print('\\n')\n",
    "\n",
    "# Increase neighboring cells of mines by 1\n",
    "centers = [(1, 0), (0, 1)]\n",
    "corners = [(1, 1), (-1, 1)]\n",
    "cells = []\n",
    "\n",
    "# Generate list of cells to increase the values of \n",
    "for t in centers:\n",
    "    cells.append((x+t[0], y+t[1]))\n",
    "    cells.append((x-t[0], y-t[1]))\n",
    "        \n",
    "for t in corners:\n",
    "    cells.append((x+t[0], y+t[1]))\n",
    "    cells.append((x+t[0], y-t[1]))\n",
    "    \n",
    "# Only increase value of cells if x and y are positive \n",
    "# This is necessary because negative indexing in Python cause the code to loop around \n",
    "# to the other side of the board, Pacman-style\n",
    "for cell in [cell for cell in cells if cell[0] >= 0 and cell[1] >= 0]:\n",
    "    try:\n",
    "        arr[cell[1]][cell[0]] += 1\n",
    "    except IndexError:\n",
    "        pass\n",
    "\n",
    "# Print board with new values \n",
    "print_board(arr)"
   ]
  },
  {
   "cell_type": "code",
   "execution_count": 5,
   "id": "f92852fb-f1d3-41e4-9371-ddd5c06f0658",
   "metadata": {},
   "outputs": [
    {
     "data": {
      "text/plain": [
       "[(3, 4), (1, 4), (2, 5), (2, 3), (3, 5), (3, 3), (1, 5), (1, 3)]"
      ]
     },
     "execution_count": 5,
     "metadata": {},
     "output_type": "execute_result"
    }
   ],
   "source": [
    "cells"
   ]
  },
  {
   "cell_type": "code",
   "execution_count": 6,
   "id": "6a9986f6-55a0-408c-b44c-2b82ff6731e6",
   "metadata": {},
   "outputs": [
    {
     "data": {
      "text/plain": [
       "array([[4, 2]])"
      ]
     },
     "execution_count": 6,
     "metadata": {},
     "output_type": "execute_result"
    }
   ],
   "source": [
    "np.argwhere(np.array(arr) == 'X')"
   ]
  },
  {
   "cell_type": "code",
   "execution_count": 7,
   "id": "797bc379-2596-406b-998e-16d0fc0417c9",
   "metadata": {},
   "outputs": [
    {
     "data": {
      "text/plain": [
       "array([[3, 1],\n",
       "       [3, 2],\n",
       "       [3, 3],\n",
       "       [4, 1],\n",
       "       [4, 3]])"
      ]
     },
     "execution_count": 7,
     "metadata": {},
     "output_type": "execute_result"
    }
   ],
   "source": [
    "np.argwhere(np.array(arr) == '1')"
   ]
  },
  {
   "cell_type": "code",
   "execution_count": 8,
   "id": "31dc3eb0-7c36-446e-9d5c-fb462e7d2e77",
   "metadata": {},
   "outputs": [
    {
     "data": {
      "text/plain": [
       "array([['0', '0', '0', '0', '0'],\n",
       "       ['0', '0', '0', '0', '0'],\n",
       "       ['0', '0', '0', '0', '0'],\n",
       "       ['0', '1', '1', '1', '0'],\n",
       "       ['0', '1', 'X', '1', '0']], dtype='<U21')"
      ]
     },
     "execution_count": 8,
     "metadata": {},
     "output_type": "execute_result"
    }
   ],
   "source": [
    "np.array(arr)"
   ]
  },
  {
   "cell_type": "code",
   "execution_count": null,
   "id": "e2f14156-9f10-4f43-9b0d-c19c3e959994",
   "metadata": {},
   "outputs": [],
   "source": []
  }
 ],
 "metadata": {
  "kernelspec": {
   "display_name": "Python 3 (ipykernel)",
   "language": "python",
   "name": "python3"
  },
  "language_info": {
   "codemirror_mode": {
    "name": "ipython",
    "version": 3
   },
   "file_extension": ".py",
   "mimetype": "text/x-python",
   "name": "python",
   "nbconvert_exporter": "python",
   "pygments_lexer": "ipython3",
   "version": "3.10.4"
  }
 },
 "nbformat": 4,
 "nbformat_minor": 5
}
