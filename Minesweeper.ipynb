{
 "cells": [
  {
   "cell_type": "markdown",
   "id": "dc52e3a7-a44e-4ef9-884b-12766e432a6b",
   "metadata": {},
   "source": [
    "Learning how to code my favorite puzzle game, Minesweeper, in Python. Developing things in a Jupyter notebook for easy testing and debugging at each step. \n",
    "\n",
    "Notes: \n",
    "- currently only supports a square board shape"
   ]
  },
  {
   "cell_type": "code",
   "execution_count": 1,
   "id": "dc0fe8af-9372-45a8-b522-0861f9bc359a",
   "metadata": {},
   "outputs": [],
   "source": [
    "# Imports\n",
    "import random\n",
    "import numpy as np"
   ]
  },
  {
   "cell_type": "code",
   "execution_count": 2,
   "id": "e401a2c6-631d-4dcc-9f41-c996c0527956",
   "metadata": {},
   "outputs": [
    {
     "name": "stdout",
     "output_type": "stream",
     "text": [
      "- - - - -\n",
      "- - - - -\n",
      "- - - - -\n",
      "- - - - -\n",
      "- - - - -\n"
     ]
    }
   ],
   "source": [
    "# Create a board\n",
    "n = 5\n",
    "arr = [['-' for row in range(n)] for column in range(n)]\n",
    "\n",
    "for row in arr:\n",
    "    print(' '.join(str(cell) for cell in row))"
   ]
  },
  {
   "cell_type": "code",
   "execution_count": 4,
   "id": "7287ac3a-cf02-4b23-9fa6-fa50019d7fbd",
   "metadata": {},
   "outputs": [],
   "source": [
    "# # Tested a different look for the board\n",
    "# arr = ['|' for n in range(5)]\n",
    "# arrh = ['_' for n in range(21)]\n",
    "\n",
    "# for i in range(5):\n",
    "    \n",
    "#     print(''.join(arrh))\n",
    "#     print('    '.join(str(value) for value in arr))\n",
    "#     print('    '.join(str(value) for value in arr))\n",
    "    \n",
    "    \n",
    "# print(''.join(arrh))"
   ]
  },
  {
   "cell_type": "code",
   "execution_count": 5,
   "id": "306ad4b6-44f2-4f50-8ba4-7684dba5584f",
   "metadata": {},
   "outputs": [],
   "source": [
    "# Quick helper function for printing out the board, a 2D array \n",
    "def print_board(arr):\n",
    "    for row in arr:\n",
    "        print(' '.join(str(cell) for cell in row))\n",
    "        \n",
    "# Function for creating board with mines:\n",
    "def create_board(m, n):\n",
    "    \n",
    "    # Create the board\n",
    "    arr = [[0 for row in range(m)] for column in range(m)]\n",
    "    i = 0\n",
    "    \n",
    "    # Add n mines\n",
    "    # Using a while loop with i counter for cases when mines get generated on top of existing ones\n",
    "    while i < n:\n",
    "        # print('i = ', i)\n",
    "        \n",
    "        # Generate random spot on board\n",
    "        x = random.randint(0, m-1)\n",
    "        y = random.randint(0, m-1)\n",
    "        \n",
    "        # Add a mine if one isn't already in that spot\n",
    "        if arr[y][x] != 'X':\n",
    "            i += 1\n",
    "            arr[y][x] = 'X'\n",
    "\n",
    "            # Uncomment for printout of board prior to adding 1's around each mine\n",
    "            # print_board(arr)\n",
    "            # print('\\n')\n",
    "            # print(np.argwhere(np.array(arr) == 'X'))\n",
    "            # print('\\n')\n",
    "\n",
    "            # Increase neighboring cells of mines by 1\n",
    "            ##########################################\n",
    "            centers = [(1, 0), (0, 1)]\n",
    "            corners = [(1, 1), (-1, 1)]\n",
    "            cells = []\n",
    "\n",
    "            # Generate list of cells to increase the values of \n",
    "            for t in centers:\n",
    "                cells.append((x+t[0], y+t[1]))\n",
    "                cells.append((x-t[0], y-t[1]))\n",
    "\n",
    "            for t in corners:\n",
    "                cells.append((x+t[0], y+t[1]))\n",
    "                cells.append((x+t[0], y-t[1]))\n",
    "\n",
    "            # Only increase value of cells if x and y are positive \n",
    "            # This is necessary because negative indexing in Python cause the code to loop around \n",
    "            # to the other side of the board, Pacman-style\n",
    "            for cell in [cell for cell in cells if cell[0] >= 0 and cell[1] >= 0]:\n",
    "                try:\n",
    "                    arr[cell[1]][cell[0]] += 1\n",
    "                # If cell location is off the board:\n",
    "                except IndexError:\n",
    "                    pass\n",
    "                # If trying to put a 1 in a cell containing a mine:\n",
    "                except TypeError:\n",
    "                    pass \n",
    "            \n",
    "            ##########################################\n",
    "            \n",
    "        else:\n",
    "            # If mine got generated on top of an existing mine, just keep going\n",
    "            # print('check reached')\n",
    "            pass\n",
    "\n",
    "    return arr"
   ]
  },
  {
   "cell_type": "code",
   "execution_count": 6,
   "id": "ce17ffc6-868f-42f6-9ca3-887194d7d7c2",
   "metadata": {},
   "outputs": [
    {
     "name": "stdout",
     "output_type": "stream",
     "text": [
      "0 0 0 1 1\n",
      "0 0 0 1 X\n",
      "1 1 0 1 1\n",
      "X 1 0 0 0\n",
      "1 1 0 0 0\n"
     ]
    }
   ],
   "source": [
    "# Game code in development\n",
    "\n",
    "# Generate board, m = height and width of board, n = # of mines\n",
    "arr = create_board(m=5, n=2)\n",
    "\n",
    "# Print board with new values \n",
    "print_board(arr)"
   ]
  },
  {
   "cell_type": "code",
   "execution_count": 8,
   "id": "6a9986f6-55a0-408c-b44c-2b82ff6731e6",
   "metadata": {},
   "outputs": [
    {
     "data": {
      "text/plain": [
       "array([[1, 4],\n",
       "       [3, 0]])"
      ]
     },
     "execution_count": 8,
     "metadata": {},
     "output_type": "execute_result"
    }
   ],
   "source": [
    "# See where the mines are: \n",
    "np.argwhere(np.array(arr) == 'X')"
   ]
  },
  {
   "cell_type": "code",
   "execution_count": 10,
   "id": "797bc379-2596-406b-998e-16d0fc0417c9",
   "metadata": {},
   "outputs": [
    {
     "data": {
      "text/plain": [
       "array([[0, 3],\n",
       "       [0, 4],\n",
       "       [1, 3],\n",
       "       [1, 4],\n",
       "       [2, 0],\n",
       "       [2, 1],\n",
       "       [2, 3],\n",
       "       [2, 4],\n",
       "       [3, 0],\n",
       "       [3, 1],\n",
       "       [4, 0],\n",
       "       [4, 1]])"
      ]
     },
     "execution_count": 10,
     "metadata": {},
     "output_type": "execute_result"
    }
   ],
   "source": [
    "# See list of neighboring cells\n",
    "np.argwhere(np.array(arr) != '0')"
   ]
  },
  {
   "cell_type": "code",
   "execution_count": null,
   "id": "e2f14156-9f10-4f43-9b0d-c19c3e959994",
   "metadata": {},
   "outputs": [],
   "source": []
  },
  {
   "cell_type": "code",
   "execution_count": null,
   "id": "2549152f-48b2-496a-8ba9-f2a30200de71",
   "metadata": {},
   "outputs": [],
   "source": []
  }
 ],
 "metadata": {
  "kernelspec": {
   "display_name": "Python 3 (ipykernel)",
   "language": "python",
   "name": "python3"
  },
  "language_info": {
   "codemirror_mode": {
    "name": "ipython",
    "version": 3
   },
   "file_extension": ".py",
   "mimetype": "text/x-python",
   "name": "python",
   "nbconvert_exporter": "python",
   "pygments_lexer": "ipython3",
   "version": "3.10.4"
  }
 },
 "nbformat": 4,
 "nbformat_minor": 5
}
